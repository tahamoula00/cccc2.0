{
  "nbformat": 4,
  "nbformat_minor": 0,
  "metadata": {
    "colab": {
      "name": "check.point21.ipynb",
      "provenance": []
    },
    "kernelspec": {
      "name": "python3",
      "display_name": "Python 3"
    },
    "language_info": {
      "name": "python"
    }
  },
  "cells": [
    {
      "cell_type": "code",
      "metadata": {
        "colab": {
          "base_uri": "https://localhost:8080/"
        },
        "id": "7hdy_ItHYa-F",
        "outputId": "c8211a95-abc3-4669-c442-b49710ab4fce"
      },
      "source": [
        "#question_1\n",
        "N=str(input(\"donner le nom:\"))\n",
        "N1=str(input(\"donner le prénom:\"))\n",
        "X=N[::-1]\n",
        "Y=N1[::-1]\n",
        "print(X+\" \"+Y)\n",
        "\n",
        "\n",
        "\n"
      ],
      "execution_count": 12,
      "outputs": [
        {
          "output_type": "stream",
          "text": [
            "donner le nom:moula\n",
            "donner le prénom:taha\n",
            "aluom ahat\n"
          ],
          "name": "stdout"
        }
      ]
    },
    {
      "cell_type": "code",
      "metadata": {
        "colab": {
          "base_uri": "https://localhost:8080/"
        },
        "id": "4J53RXZDOUER",
        "outputId": "edcf3d06-5883-4ae4-dd7f-7d325cdb8778"
      },
      "source": [
        "#question2\n",
        "while True:\n",
        "  n=int(input(\"donner un entier\"))\n",
        "  if (n>0 and n<9):\n",
        "    break\n",
        "print(n+n**2+n**3)"
      ],
      "execution_count": 17,
      "outputs": [
        {
          "output_type": "stream",
          "text": [
            "donner un entier8\n",
            "584\n"
          ],
          "name": "stdout"
        }
      ]
    },
    {
      "cell_type": "code",
      "metadata": {
        "colab": {
          "base_uri": "https://localhost:8080/"
        },
        "id": "QaxIKs75Pe_6",
        "outputId": "d62cd613-c576-40de-c81f-d07e135e25c2"
      },
      "source": [
        "#question3\n",
        "N=int(input(\"donner un nombre\"))\n",
        "if N/2==0:\n",
        "  print(\"this number is even\")\n",
        "else:\n",
        "  print(\"this number is odd\")"
      ],
      "execution_count": 23,
      "outputs": [
        {
          "output_type": "stream",
          "text": [
            "donner un nombre71\n",
            "this number is odd\n"
          ],
          "name": "stdout"
        }
      ]
    },
    {
      "cell_type": "code",
      "metadata": {
        "colab": {
          "base_uri": "https://localhost:8080/"
        },
        "id": "R31uoWqZRIWC",
        "outputId": "854ab082-268d-40bc-840a-da834d93460d"
      },
      "source": [
        "#question4\n",
        "while True:\n",
        "  N=int(input(\"give a number\"))\n",
        "  if N in range(2000,3200):\n",
        "    break\n",
        "if N/7==0 and N%5!=0:\n",
        "  print(\"that's the correct answer\")\n",
        "else:\n",
        "  print(\"that's false\")"
      ],
      "execution_count": 12,
      "outputs": [
        {
          "output_type": "stream",
          "text": [
            "give a number2101\n",
            "that's false\n"
          ],
          "name": "stdout"
        }
      ]
    }
  ]
}