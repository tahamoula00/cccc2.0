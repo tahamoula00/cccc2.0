{
  "nbformat": 4,
  "nbformat_minor": 0,
  "metadata": {
    "colab": {
      "name": "Check point2 (suite).ipynb",
      "provenance": []
    },
    "kernelspec": {
      "name": "python3",
      "display_name": "Python 3"
    },
    "language_info": {
      "name": "python"
    }
  },
  "cells": [
    {
      "cell_type": "code",
      "metadata": {
        "colab": {
          "base_uri": "https://localhost:8080/"
        },
        "id": "JyUNdBBMM2Xr",
        "outputId": "480f09cb-74b5-40f3-d5eb-b5af995f58b3"
      },
      "source": [
        "#question 5\n",
        "from math import*\n",
        "N=int(input(\"give the number\"))\n",
        "J=factorial(N)\n",
        "print(J)"
      ],
      "execution_count": 36,
      "outputs": [
        {
          "output_type": "stream",
          "text": [
            "give the number8\n",
            "40320\n"
          ],
          "name": "stdout"
        }
      ]
    },
    {
      "cell_type": "code",
      "metadata": {
        "colab": {
          "base_uri": "https://localhost:8080/"
        },
        "id": "H9eChSiFNpqF",
        "outputId": "2d50a34f-c915-4bac-d847-4cb8bbf15a67"
      },
      "source": [
        "#Question 6\n",
        "N=str(input(\"give a sentence:\"))\n",
        "R=\"\"\n",
        "for i in range(len(N)):\n",
        "  if i%2==0:\n",
        "    R=R+N[i]\n",
        "print(R)"
      ],
      "execution_count": 1,
      "outputs": [
        {
          "output_type": "stream",
          "text": [
            "give a sentence:tahaaaaaaaa\n",
            "thaaaa\n"
          ],
          "name": "stdout"
        }
      ]
    },
    {
      "cell_type": "code",
      "metadata": {
        "colab": {
          "base_uri": "https://localhost:8080/"
        },
        "id": "-ucCaDSOz36q",
        "outputId": "dda6a9d3-1fc5-4cb7-aac9-c1f2582405be"
      },
      "source": [
        "#question7\n",
        "T=\"NOW It costs only:\"\n",
        "N=float(input(\"HOW MUCH IT COSTS?:\"))\n",
        "if N>=500:\n",
        "  print(T,N-(N/100*50))\n",
        "elif 200<=N<500:\n",
        "  print(T,N-(N/100*30))\n",
        "else:\n",
        "  print(T,N-(N/100*10))\n",
        "  "
      ],
      "execution_count": 24,
      "outputs": [
        {
          "output_type": "stream",
          "text": [
            "HOW MUCH IT COSTS?:1500\n",
            "NOW It costs only: 750.0\n"
          ],
          "name": "stdout"
        }
      ]
    }
  ]
}